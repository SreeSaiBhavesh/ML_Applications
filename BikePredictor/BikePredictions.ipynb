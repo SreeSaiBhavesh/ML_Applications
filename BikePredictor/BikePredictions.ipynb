{
 "cells": [
  {
   "cell_type": "code",
   "execution_count": 1,
   "id": "e0633f10",
   "metadata": {},
   "outputs": [],
   "source": [
    "import numpy as np\n",
    "import pandas as pd\n",
    "import matplotlib.pyplot as plt\n",
    "import seaborn as sns"
   ]
  },
  {
   "cell_type": "code",
   "execution_count": 2,
   "id": "4fb74eaa",
   "metadata": {},
   "outputs": [],
   "source": [
    "data = pd.read_csv('BIKE_DETAILS.csv')"
   ]
  },
  {
   "cell_type": "code",
   "execution_count": 3,
   "id": "182a6b5f",
   "metadata": {},
   "outputs": [
    {
     "data": {
      "text/html": [
       "<div>\n",
       "<style scoped>\n",
       "    .dataframe tbody tr th:only-of-type {\n",
       "        vertical-align: middle;\n",
       "    }\n",
       "\n",
       "    .dataframe tbody tr th {\n",
       "        vertical-align: top;\n",
       "    }\n",
       "\n",
       "    .dataframe thead th {\n",
       "        text-align: right;\n",
       "    }\n",
       "</style>\n",
       "<table border=\"1\" class=\"dataframe\">\n",
       "  <thead>\n",
       "    <tr style=\"text-align: right;\">\n",
       "      <th></th>\n",
       "      <th>name</th>\n",
       "      <th>selling_price</th>\n",
       "      <th>year</th>\n",
       "      <th>seller_type</th>\n",
       "      <th>owner</th>\n",
       "      <th>km_driven</th>\n",
       "      <th>ex_showroom_price</th>\n",
       "    </tr>\n",
       "  </thead>\n",
       "  <tbody>\n",
       "    <tr>\n",
       "      <th>0</th>\n",
       "      <td>Royal Enfield Classic 350</td>\n",
       "      <td>175000</td>\n",
       "      <td>2019</td>\n",
       "      <td>Individual</td>\n",
       "      <td>1st owner</td>\n",
       "      <td>350</td>\n",
       "      <td>NaN</td>\n",
       "    </tr>\n",
       "    <tr>\n",
       "      <th>1</th>\n",
       "      <td>Honda Dio</td>\n",
       "      <td>45000</td>\n",
       "      <td>2017</td>\n",
       "      <td>Individual</td>\n",
       "      <td>1st owner</td>\n",
       "      <td>5650</td>\n",
       "      <td>NaN</td>\n",
       "    </tr>\n",
       "    <tr>\n",
       "      <th>2</th>\n",
       "      <td>Royal Enfield Classic Gunmetal Grey</td>\n",
       "      <td>150000</td>\n",
       "      <td>2018</td>\n",
       "      <td>Individual</td>\n",
       "      <td>1st owner</td>\n",
       "      <td>12000</td>\n",
       "      <td>148114.0</td>\n",
       "    </tr>\n",
       "    <tr>\n",
       "      <th>3</th>\n",
       "      <td>Yamaha Fazer FI V 2.0 [2016-2018]</td>\n",
       "      <td>65000</td>\n",
       "      <td>2015</td>\n",
       "      <td>Individual</td>\n",
       "      <td>1st owner</td>\n",
       "      <td>23000</td>\n",
       "      <td>89643.0</td>\n",
       "    </tr>\n",
       "    <tr>\n",
       "      <th>4</th>\n",
       "      <td>Yamaha SZ [2013-2014]</td>\n",
       "      <td>20000</td>\n",
       "      <td>2011</td>\n",
       "      <td>Individual</td>\n",
       "      <td>2nd owner</td>\n",
       "      <td>21000</td>\n",
       "      <td>NaN</td>\n",
       "    </tr>\n",
       "    <tr>\n",
       "      <th>...</th>\n",
       "      <td>...</td>\n",
       "      <td>...</td>\n",
       "      <td>...</td>\n",
       "      <td>...</td>\n",
       "      <td>...</td>\n",
       "      <td>...</td>\n",
       "      <td>...</td>\n",
       "    </tr>\n",
       "    <tr>\n",
       "      <th>1056</th>\n",
       "      <td>Activa 3g</td>\n",
       "      <td>17000</td>\n",
       "      <td>2010</td>\n",
       "      <td>Individual</td>\n",
       "      <td>1st owner</td>\n",
       "      <td>500000</td>\n",
       "      <td>52000.0</td>\n",
       "    </tr>\n",
       "    <tr>\n",
       "      <th>1057</th>\n",
       "      <td>Honda CB twister</td>\n",
       "      <td>16000</td>\n",
       "      <td>2012</td>\n",
       "      <td>Individual</td>\n",
       "      <td>1st owner</td>\n",
       "      <td>33000</td>\n",
       "      <td>51000.0</td>\n",
       "    </tr>\n",
       "    <tr>\n",
       "      <th>1058</th>\n",
       "      <td>Bajaj Discover 125</td>\n",
       "      <td>15000</td>\n",
       "      <td>2013</td>\n",
       "      <td>Individual</td>\n",
       "      <td>2nd owner</td>\n",
       "      <td>35000</td>\n",
       "      <td>57000.0</td>\n",
       "    </tr>\n",
       "    <tr>\n",
       "      <th>1059</th>\n",
       "      <td>Honda CB Shine</td>\n",
       "      <td>12000</td>\n",
       "      <td>2009</td>\n",
       "      <td>Individual</td>\n",
       "      <td>1st owner</td>\n",
       "      <td>53000</td>\n",
       "      <td>58000.0</td>\n",
       "    </tr>\n",
       "    <tr>\n",
       "      <th>1060</th>\n",
       "      <td>Bajaj Pulsar 150</td>\n",
       "      <td>10000</td>\n",
       "      <td>2008</td>\n",
       "      <td>Individual</td>\n",
       "      <td>1st owner</td>\n",
       "      <td>92233</td>\n",
       "      <td>75000.0</td>\n",
       "    </tr>\n",
       "  </tbody>\n",
       "</table>\n",
       "<p>1061 rows × 7 columns</p>\n",
       "</div>"
      ],
      "text/plain": [
       "                                     name  selling_price  year seller_type  \\\n",
       "0               Royal Enfield Classic 350         175000  2019  Individual   \n",
       "1                               Honda Dio          45000  2017  Individual   \n",
       "2     Royal Enfield Classic Gunmetal Grey         150000  2018  Individual   \n",
       "3       Yamaha Fazer FI V 2.0 [2016-2018]          65000  2015  Individual   \n",
       "4                   Yamaha SZ [2013-2014]          20000  2011  Individual   \n",
       "...                                   ...            ...   ...         ...   \n",
       "1056                            Activa 3g          17000  2010  Individual   \n",
       "1057                     Honda CB twister          16000  2012  Individual   \n",
       "1058                   Bajaj Discover 125          15000  2013  Individual   \n",
       "1059                       Honda CB Shine          12000  2009  Individual   \n",
       "1060                     Bajaj Pulsar 150          10000  2008  Individual   \n",
       "\n",
       "          owner  km_driven  ex_showroom_price  \n",
       "0     1st owner        350                NaN  \n",
       "1     1st owner       5650                NaN  \n",
       "2     1st owner      12000           148114.0  \n",
       "3     1st owner      23000            89643.0  \n",
       "4     2nd owner      21000                NaN  \n",
       "...         ...        ...                ...  \n",
       "1056  1st owner     500000            52000.0  \n",
       "1057  1st owner      33000            51000.0  \n",
       "1058  2nd owner      35000            57000.0  \n",
       "1059  1st owner      53000            58000.0  \n",
       "1060  1st owner      92233            75000.0  \n",
       "\n",
       "[1061 rows x 7 columns]"
      ]
     },
     "execution_count": 3,
     "metadata": {},
     "output_type": "execute_result"
    }
   ],
   "source": [
    "data"
   ]
  },
  {
   "cell_type": "code",
   "execution_count": 4,
   "id": "17f092b9",
   "metadata": {},
   "outputs": [
    {
     "data": {
      "text/plain": [
       "(1061, 7)"
      ]
     },
     "execution_count": 4,
     "metadata": {},
     "output_type": "execute_result"
    }
   ],
   "source": [
    "data.shape"
   ]
  },
  {
   "cell_type": "code",
   "execution_count": 5,
   "id": "857f8bdc",
   "metadata": {},
   "outputs": [
    {
     "name": "stdout",
     "output_type": "stream",
     "text": [
      "<class 'pandas.core.frame.DataFrame'>\n",
      "RangeIndex: 1061 entries, 0 to 1060\n",
      "Data columns (total 7 columns):\n",
      " #   Column             Non-Null Count  Dtype  \n",
      "---  ------             --------------  -----  \n",
      " 0   name               1061 non-null   object \n",
      " 1   selling_price      1061 non-null   int64  \n",
      " 2   year               1061 non-null   int64  \n",
      " 3   seller_type        1061 non-null   object \n",
      " 4   owner              1061 non-null   object \n",
      " 5   km_driven          1061 non-null   int64  \n",
      " 6   ex_showroom_price  626 non-null    float64\n",
      "dtypes: float64(1), int64(3), object(3)\n",
      "memory usage: 58.1+ KB\n"
     ]
    }
   ],
   "source": [
    "data.info()"
   ]
  },
  {
   "cell_type": "code",
   "execution_count": 6,
   "id": "e70d2f45",
   "metadata": {},
   "outputs": [
    {
     "data": {
      "text/plain": [
       "name                   0\n",
       "selling_price          0\n",
       "year                   0\n",
       "seller_type            0\n",
       "owner                  0\n",
       "km_driven              0\n",
       "ex_showroom_price    435\n",
       "dtype: int64"
      ]
     },
     "execution_count": 6,
     "metadata": {},
     "output_type": "execute_result"
    }
   ],
   "source": [
    "data.isnull().sum()"
   ]
  },
  {
   "cell_type": "code",
   "execution_count": 7,
   "id": "5e0ad058",
   "metadata": {},
   "outputs": [],
   "source": [
    "# needed columns are selling_price, year, km_driven and name of the bike\n",
    "data = data[['name', 'selling_price', 'year', 'km_driven']]"
   ]
  },
  {
   "cell_type": "code",
   "execution_count": 8,
   "id": "b3080f31",
   "metadata": {},
   "outputs": [
    {
     "data": {
      "text/html": [
       "<div>\n",
       "<style scoped>\n",
       "    .dataframe tbody tr th:only-of-type {\n",
       "        vertical-align: middle;\n",
       "    }\n",
       "\n",
       "    .dataframe tbody tr th {\n",
       "        vertical-align: top;\n",
       "    }\n",
       "\n",
       "    .dataframe thead th {\n",
       "        text-align: right;\n",
       "    }\n",
       "</style>\n",
       "<table border=\"1\" class=\"dataframe\">\n",
       "  <thead>\n",
       "    <tr style=\"text-align: right;\">\n",
       "      <th></th>\n",
       "      <th>name</th>\n",
       "      <th>selling_price</th>\n",
       "      <th>year</th>\n",
       "      <th>km_driven</th>\n",
       "    </tr>\n",
       "  </thead>\n",
       "  <tbody>\n",
       "    <tr>\n",
       "      <th>0</th>\n",
       "      <td>Royal Enfield Classic 350</td>\n",
       "      <td>175000</td>\n",
       "      <td>2019</td>\n",
       "      <td>350</td>\n",
       "    </tr>\n",
       "    <tr>\n",
       "      <th>1</th>\n",
       "      <td>Honda Dio</td>\n",
       "      <td>45000</td>\n",
       "      <td>2017</td>\n",
       "      <td>5650</td>\n",
       "    </tr>\n",
       "    <tr>\n",
       "      <th>2</th>\n",
       "      <td>Royal Enfield Classic Gunmetal Grey</td>\n",
       "      <td>150000</td>\n",
       "      <td>2018</td>\n",
       "      <td>12000</td>\n",
       "    </tr>\n",
       "    <tr>\n",
       "      <th>3</th>\n",
       "      <td>Yamaha Fazer FI V 2.0 [2016-2018]</td>\n",
       "      <td>65000</td>\n",
       "      <td>2015</td>\n",
       "      <td>23000</td>\n",
       "    </tr>\n",
       "    <tr>\n",
       "      <th>4</th>\n",
       "      <td>Yamaha SZ [2013-2014]</td>\n",
       "      <td>20000</td>\n",
       "      <td>2011</td>\n",
       "      <td>21000</td>\n",
       "    </tr>\n",
       "    <tr>\n",
       "      <th>...</th>\n",
       "      <td>...</td>\n",
       "      <td>...</td>\n",
       "      <td>...</td>\n",
       "      <td>...</td>\n",
       "    </tr>\n",
       "    <tr>\n",
       "      <th>1056</th>\n",
       "      <td>Activa 3g</td>\n",
       "      <td>17000</td>\n",
       "      <td>2010</td>\n",
       "      <td>500000</td>\n",
       "    </tr>\n",
       "    <tr>\n",
       "      <th>1057</th>\n",
       "      <td>Honda CB twister</td>\n",
       "      <td>16000</td>\n",
       "      <td>2012</td>\n",
       "      <td>33000</td>\n",
       "    </tr>\n",
       "    <tr>\n",
       "      <th>1058</th>\n",
       "      <td>Bajaj Discover 125</td>\n",
       "      <td>15000</td>\n",
       "      <td>2013</td>\n",
       "      <td>35000</td>\n",
       "    </tr>\n",
       "    <tr>\n",
       "      <th>1059</th>\n",
       "      <td>Honda CB Shine</td>\n",
       "      <td>12000</td>\n",
       "      <td>2009</td>\n",
       "      <td>53000</td>\n",
       "    </tr>\n",
       "    <tr>\n",
       "      <th>1060</th>\n",
       "      <td>Bajaj Pulsar 150</td>\n",
       "      <td>10000</td>\n",
       "      <td>2008</td>\n",
       "      <td>92233</td>\n",
       "    </tr>\n",
       "  </tbody>\n",
       "</table>\n",
       "<p>1061 rows × 4 columns</p>\n",
       "</div>"
      ],
      "text/plain": [
       "                                     name  selling_price  year  km_driven\n",
       "0               Royal Enfield Classic 350         175000  2019        350\n",
       "1                               Honda Dio          45000  2017       5650\n",
       "2     Royal Enfield Classic Gunmetal Grey         150000  2018      12000\n",
       "3       Yamaha Fazer FI V 2.0 [2016-2018]          65000  2015      23000\n",
       "4                   Yamaha SZ [2013-2014]          20000  2011      21000\n",
       "...                                   ...            ...   ...        ...\n",
       "1056                            Activa 3g          17000  2010     500000\n",
       "1057                     Honda CB twister          16000  2012      33000\n",
       "1058                   Bajaj Discover 125          15000  2013      35000\n",
       "1059                       Honda CB Shine          12000  2009      53000\n",
       "1060                     Bajaj Pulsar 150          10000  2008      92233\n",
       "\n",
       "[1061 rows x 4 columns]"
      ]
     },
     "execution_count": 8,
     "metadata": {},
     "output_type": "execute_result"
    }
   ],
   "source": [
    "data"
   ]
  },
  {
   "cell_type": "code",
   "execution_count": 9,
   "id": "8d2f3f7c",
   "metadata": {},
   "outputs": [
    {
     "data": {
      "text/plain": [
       "name             object\n",
       "selling_price     int64\n",
       "year              int64\n",
       "km_driven         int64\n",
       "dtype: object"
      ]
     },
     "execution_count": 9,
     "metadata": {},
     "output_type": "execute_result"
    }
   ],
   "source": [
    "data.dtypes"
   ]
  },
  {
   "cell_type": "code",
   "execution_count": 10,
   "id": "3d66bfcb",
   "metadata": {},
   "outputs": [
    {
     "data": {
      "text/plain": [
       "array([175000,  45000, 150000,  65000,  20000,  18000,  78500, 180000,\n",
       "        30000,  50000,  35000,  28000,  80000, 365000, 185000,  25000,\n",
       "        40000, 120000,  15000,  26000,  32000, 110000,  42000,  21000,\n",
       "        55000,  38000,  43000,  62000,  60000,  90000, 125000,  85000,\n",
       "        29900,  70000,  48000,  34000, 165000,  29500,  95000,   7500,\n",
       "       160000, 140000,  22000,  22989,  24999,  75000,  17500,  57000,\n",
       "        83900, 135000, 299000, 750000, 190000, 130000,  54786,  72000,\n",
       "       100000, 138000, 170000, 123000,  23000,  41000,  47999,  36999,\n",
       "        12000,  27000,  10000,  56000,  58000,  87000, 145000,   9000,\n",
       "        14000,  17000, 210000,  54000, 260000,  98000, 200000, 195000,\n",
       "       270000, 425000, 760000,  37000, 330000, 162000, 285000,  69000,\n",
       "       300000,  26500,  78000,   8000,  39000,  36000,  16000,  83299,\n",
       "        14700,  19000,  14900,  24000,  24700,  52000,  47000, 105000,\n",
       "       115000,   5000,  86000,  28700,   6000,  23500,  68000,  20100,\n",
       "        14500,  46000,  30900,  89999,  17600,  51000,  74000,  85009,\n",
       "        16600,  99000,  77000,  76000, 119000,  59000, 205000,  25500,\n",
       "       111000,  31000], dtype=int64)"
      ]
     },
     "execution_count": 10,
     "metadata": {},
     "output_type": "execute_result"
    }
   ],
   "source": [
    "data['selling_price'].unique()"
   ]
  },
  {
   "cell_type": "code",
   "execution_count": 11,
   "id": "78bc75ab",
   "metadata": {},
   "outputs": [
    {
     "data": {
      "text/plain": [
       "array([   350,   5650,  12000,  23000,  21000,  60000,  17000,  39000,\n",
       "        32000,  42000,  10000,  21178,   1127,   1700,  55000,  27000,\n",
       "        45000,  17450,  20696,   2000,  20000,  35000,  15210,  24000,\n",
       "         2500,  75000,  50000,   6502,  16000,  13000,  12800,   4600,\n",
       "        81000,   8000,  57000,  26000,  29000,  43000,  40000,   3000,\n",
       "        80000,  30000,  41000,   8150,   1933,  55750,  15856,   3700,\n",
       "        21938,  48000,  54000,  15000,   3500,   9000,  38000,  22000,\n",
       "         9432,  70000, 500000,  30514, 130000,  25000,  22770,   6330,\n",
       "          500,  43400,   7004,  16500,  12500,   9600,  11000,   7500,\n",
       "       120000,   6465,  18803,   7000,   6100,  14000,  85000,  18000,\n",
       "         1500,  90000,  36500,  49000,   8500,   3775,  14500,   4000,\n",
       "        99000,  52000,   2300,  36000,  71000,  15888,   5600,  19612,\n",
       "        33700, 100000,   6000,  46000,  72000,  67000,  15500,  60855,\n",
       "        37714,  34601,  44000,  17500,   6500,   2200,  66191,  32800,\n",
       "         3900,  46782,  51000,  66000,  23500,  33000,  70350,   2700,\n",
       "        41311,  65000,  34000,   1200,  19000,   8600,   7200,  31195,\n",
       "         1000,  77592,   7600,  14965,   2380,  13600,  18600,   7750,\n",
       "         2800,   9800,  29689,  28243,  22300,  33595,   5505,   5000,\n",
       "        17365,   5500,  33900,  47670,   5700,  22866,  31000,   1600,\n",
       "        77000,  56000,  11500,  20477,  35700,  37000,   3246,   4050,\n",
       "        33200, 646000,   3909,   7672,   3654,  29950,  26100,   5475,\n",
       "        20500,   4100,  23097,  37734,  13500,  58000,  45137,  35600,\n",
       "         7353,  13200,  38350,  20400,  19500,   4500,  70889,  13125,\n",
       "        19600,  19055,  28087,  24600,  27500,  61000,   6400,   6409,\n",
       "        26600,  58203,  21885,   3200,  28000,   1800,  76000,  52500,\n",
       "         2845,   7110,  27785,  14600,  95000,  49637,   5326, 585659,\n",
       "        37541,  73000,  16295,  59000,   9500,   2900,  39500,  29500,\n",
       "        10500,  20350,  28563,  21121,  11800,  16145,  49876,   1300,\n",
       "        86000, 340000, 101000,  57700,   8800,  68000,   8200,  47000,\n",
       "         5555,  98000,  71250,  82000, 880000,  15100,  12652,  13800,\n",
       "        16008,    380,  93000,  29442,  12657,  69000,  11200,  56420,\n",
       "        18345,   3025, 240000,  45354,  18860,  38500,   9556,  14100,\n",
       "        29625,  53500,  39448,  62000,  49999,  27370,   8900, 345000,\n",
       "        12566,   1400,  14289,  28450,  31500,  17860,  10950,  35850,\n",
       "        45420,  19800,  34300,   7199,   9999,   2009,  12077, 450000,\n",
       "         5814,   7850,  46700,  46070, 127000,  63000,  89000,  34500,\n",
       "        28990,  35280,  21700,   8700,   5400,   6900,  46500,  16600,\n",
       "         4300,   6700,  13700,  38600, 213000,   1900,  53000,  92233],\n",
       "      dtype=int64)"
      ]
     },
     "execution_count": 11,
     "metadata": {},
     "output_type": "execute_result"
    }
   ],
   "source": [
    "data['km_driven'].unique()"
   ]
  },
  {
   "cell_type": "code",
   "execution_count": 12,
   "id": "58a98ea3",
   "metadata": {},
   "outputs": [
    {
     "name": "stderr",
     "output_type": "stream",
     "text": [
      "C:\\conda_tmp\\ipykernel_15224\\4132768251.py:1: SettingWithCopyWarning: \n",
      "A value is trying to be set on a copy of a slice from a DataFrame.\n",
      "Try using .loc[row_indexer,col_indexer] = value instead\n",
      "\n",
      "See the caveats in the documentation: https://pandas.pydata.org/pandas-docs/stable/user_guide/indexing.html#returning-a-view-versus-a-copy\n",
      "  data['name'] = data['name'].str.split(' ').str.slice(0,3).str.join(' ')\n"
     ]
    }
   ],
   "source": [
    "data['name'] = data['name'].str.split(' ').str.slice(0,3).str.join(' ')"
   ]
  },
  {
   "cell_type": "code",
   "execution_count": 14,
   "id": "221ed6ed",
   "metadata": {},
   "outputs": [],
   "source": [
    "data = data.reset_index(drop=True)"
   ]
  },
  {
   "cell_type": "code",
   "execution_count": 15,
   "id": "0ae04537",
   "metadata": {},
   "outputs": [
    {
     "data": {
      "text/html": [
       "<div>\n",
       "<style scoped>\n",
       "    .dataframe tbody tr th:only-of-type {\n",
       "        vertical-align: middle;\n",
       "    }\n",
       "\n",
       "    .dataframe tbody tr th {\n",
       "        vertical-align: top;\n",
       "    }\n",
       "\n",
       "    .dataframe thead th {\n",
       "        text-align: right;\n",
       "    }\n",
       "</style>\n",
       "<table border=\"1\" class=\"dataframe\">\n",
       "  <thead>\n",
       "    <tr style=\"text-align: right;\">\n",
       "      <th></th>\n",
       "      <th>name</th>\n",
       "      <th>selling_price</th>\n",
       "      <th>year</th>\n",
       "      <th>km_driven</th>\n",
       "    </tr>\n",
       "  </thead>\n",
       "  <tbody>\n",
       "    <tr>\n",
       "      <th>0</th>\n",
       "      <td>Royal Enfield Classic</td>\n",
       "      <td>175000</td>\n",
       "      <td>2019</td>\n",
       "      <td>350</td>\n",
       "    </tr>\n",
       "    <tr>\n",
       "      <th>1</th>\n",
       "      <td>Honda Dio</td>\n",
       "      <td>45000</td>\n",
       "      <td>2017</td>\n",
       "      <td>5650</td>\n",
       "    </tr>\n",
       "    <tr>\n",
       "      <th>2</th>\n",
       "      <td>Royal Enfield Classic</td>\n",
       "      <td>150000</td>\n",
       "      <td>2018</td>\n",
       "      <td>12000</td>\n",
       "    </tr>\n",
       "    <tr>\n",
       "      <th>3</th>\n",
       "      <td>Yamaha Fazer FI</td>\n",
       "      <td>65000</td>\n",
       "      <td>2015</td>\n",
       "      <td>23000</td>\n",
       "    </tr>\n",
       "    <tr>\n",
       "      <th>4</th>\n",
       "      <td>Yamaha SZ [2013-2014]</td>\n",
       "      <td>20000</td>\n",
       "      <td>2011</td>\n",
       "      <td>21000</td>\n",
       "    </tr>\n",
       "    <tr>\n",
       "      <th>...</th>\n",
       "      <td>...</td>\n",
       "      <td>...</td>\n",
       "      <td>...</td>\n",
       "      <td>...</td>\n",
       "    </tr>\n",
       "    <tr>\n",
       "      <th>1056</th>\n",
       "      <td>Activa 3g</td>\n",
       "      <td>17000</td>\n",
       "      <td>2010</td>\n",
       "      <td>500000</td>\n",
       "    </tr>\n",
       "    <tr>\n",
       "      <th>1057</th>\n",
       "      <td>Honda CB twister</td>\n",
       "      <td>16000</td>\n",
       "      <td>2012</td>\n",
       "      <td>33000</td>\n",
       "    </tr>\n",
       "    <tr>\n",
       "      <th>1058</th>\n",
       "      <td>Bajaj Discover 125</td>\n",
       "      <td>15000</td>\n",
       "      <td>2013</td>\n",
       "      <td>35000</td>\n",
       "    </tr>\n",
       "    <tr>\n",
       "      <th>1059</th>\n",
       "      <td>Honda CB Shine</td>\n",
       "      <td>12000</td>\n",
       "      <td>2009</td>\n",
       "      <td>53000</td>\n",
       "    </tr>\n",
       "    <tr>\n",
       "      <th>1060</th>\n",
       "      <td>Bajaj Pulsar 150</td>\n",
       "      <td>10000</td>\n",
       "      <td>2008</td>\n",
       "      <td>92233</td>\n",
       "    </tr>\n",
       "  </tbody>\n",
       "</table>\n",
       "<p>1061 rows × 4 columns</p>\n",
       "</div>"
      ],
      "text/plain": [
       "                       name  selling_price  year  km_driven\n",
       "0     Royal Enfield Classic         175000  2019        350\n",
       "1                 Honda Dio          45000  2017       5650\n",
       "2     Royal Enfield Classic         150000  2018      12000\n",
       "3           Yamaha Fazer FI          65000  2015      23000\n",
       "4     Yamaha SZ [2013-2014]          20000  2011      21000\n",
       "...                     ...            ...   ...        ...\n",
       "1056              Activa 3g          17000  2010     500000\n",
       "1057       Honda CB twister          16000  2012      33000\n",
       "1058     Bajaj Discover 125          15000  2013      35000\n",
       "1059         Honda CB Shine          12000  2009      53000\n",
       "1060       Bajaj Pulsar 150          10000  2008      92233\n",
       "\n",
       "[1061 rows x 4 columns]"
      ]
     },
     "execution_count": 15,
     "metadata": {},
     "output_type": "execute_result"
    }
   ],
   "source": [
    "data"
   ]
  },
  {
   "cell_type": "code",
   "execution_count": 54,
   "id": "acd7cab9",
   "metadata": {},
   "outputs": [],
   "source": [
    "data.to_csv('Cleaned_Data.csv')"
   ]
  },
  {
   "cell_type": "code",
   "execution_count": 55,
   "id": "b7fb5f17",
   "metadata": {},
   "outputs": [],
   "source": [
    "X = data.drop(columns='selling_price')\n",
    "y = data['selling_price']"
   ]
  },
  {
   "cell_type": "code",
   "execution_count": 56,
   "id": "f96791ea",
   "metadata": {},
   "outputs": [],
   "source": [
    "from sklearn.model_selection import train_test_split\n",
    "X_train, X_test, y_train, y_test = train_test_split(X, y,test_size = 0.2)"
   ]
  },
  {
   "cell_type": "code",
   "execution_count": 57,
   "id": "68625618",
   "metadata": {},
   "outputs": [],
   "source": [
    "from sklearn.linear_model import LinearRegression\n",
    "from sklearn.metrics import r2_score\n",
    "from sklearn.preprocessing import OneHotEncoder\n",
    "from sklearn.compose import make_column_transformer, ColumnTransformer\n",
    "from sklearn.pipeline import make_pipeline"
   ]
  },
  {
   "cell_type": "code",
   "execution_count": 58,
   "id": "be90a0c3",
   "metadata": {},
   "outputs": [],
   "source": [
    "ohe = OneHotEncoder()"
   ]
  },
  {
   "cell_type": "code",
   "execution_count": 59,
   "id": "37b3ca33",
   "metadata": {},
   "outputs": [
    {
     "data": {
      "text/plain": [
       "OneHotEncoder()"
      ]
     },
     "execution_count": 59,
     "metadata": {},
     "output_type": "execute_result"
    }
   ],
   "source": [
    "ohe.fit(X[['name']])"
   ]
  },
  {
   "cell_type": "code",
   "execution_count": 60,
   "id": "196a3ae0",
   "metadata": {},
   "outputs": [],
   "source": [
    "column_trans = make_column_transformer((OneHotEncoder(categories = ohe.categories_), ['name']),\n",
    "                                       remainder = 'passthrough')"
   ]
  },
  {
   "cell_type": "code",
   "execution_count": 61,
   "id": "3652c52d",
   "metadata": {},
   "outputs": [],
   "source": [
    "lr = LinearRegression()"
   ]
  },
  {
   "cell_type": "code",
   "execution_count": 63,
   "id": "a4bc2db0",
   "metadata": {},
   "outputs": [],
   "source": [
    "pipe = make_pipeline(column_trans, lr)"
   ]
  },
  {
   "cell_type": "code",
   "execution_count": 64,
   "id": "c9e985e4",
   "metadata": {},
   "outputs": [
    {
     "data": {
      "text/plain": [
       "Pipeline(steps=[('columntransformer',\n",
       "                 ColumnTransformer(remainder='passthrough',\n",
       "                                   transformers=[('onehotencoder',\n",
       "                                                  OneHotEncoder(categories=[array(['Activa 3g', 'Activa 4g', 'Aprilia SR 125', 'BMW G310GS',\n",
       "       'Bajaj  ct', 'Bajaj Avenger 150', 'Bajaj Avenger 220',\n",
       "       'Bajaj Avenger Cruise', 'Bajaj Avenger Street',\n",
       "       'Bajaj Avenger [2015]', 'Bajaj Boxer', 'Bajaj CT 100',\n",
       "       'Bajaj CT 110', 'Bajaj Disc...\n",
       "       'Yamaha Fazer ', 'Yamaha Fazer 25', 'Yamaha Fazer Dlx',\n",
       "       'Yamaha Fazer FI', 'Yamaha Fazer [2009-2016]', 'Yamaha Gladiator',\n",
       "       'Yamaha RX135', 'Yamaha RXG', 'Yamaha Ray Z', 'Yamaha Rx',\n",
       "       'Yamaha SZ RR', 'Yamaha SZ X', 'Yamaha SZ [2013-2014]',\n",
       "       'Yamaha SZ-S', 'Yamaha Saluto', 'Yamaha Saluto RX',\n",
       "       'Yamaha YBR 125', 'Yamaha YZF R15', 'Yamaha YZF R3', 'Yo Style'],\n",
       "      dtype=object)]),\n",
       "                                                  ['name'])])),\n",
       "                ('linearregression', LinearRegression())])"
      ]
     },
     "execution_count": 64,
     "metadata": {},
     "output_type": "execute_result"
    }
   ],
   "source": [
    "pipe.fit(X_train,y_train)"
   ]
  },
  {
   "cell_type": "code",
   "execution_count": 65,
   "id": "9b26e96b",
   "metadata": {},
   "outputs": [],
   "source": [
    "y_pred = pipe.predict(X_test)"
   ]
  },
  {
   "cell_type": "code",
   "execution_count": 66,
   "id": "12df86bb",
   "metadata": {},
   "outputs": [
    {
     "data": {
      "text/plain": [
       "0.7081355652526464"
      ]
     },
     "execution_count": 66,
     "metadata": {},
     "output_type": "execute_result"
    }
   ],
   "source": [
    "r2_score(y_test, y_pred)"
   ]
  },
  {
   "cell_type": "code",
   "execution_count": 67,
   "id": "129ed3d2",
   "metadata": {},
   "outputs": [
    {
     "data": {
      "text/plain": [
       "37"
      ]
     },
     "execution_count": 67,
     "metadata": {},
     "output_type": "execute_result"
    }
   ],
   "source": [
    "scores = []\n",
    "for i in range(100):\n",
    "    X_train, X_test, y_train, y_test = train_test_split(X, y,test_size = 0.2, random_state = i)\n",
    "    lr = LinearRegression()\n",
    "    pipe = make_pipeline(column_trans, lr)\n",
    "    pipe.fit(X_train, y_train)\n",
    "    y_pred = pipe.predict(X_test)\n",
    "    scores.append(r2_score(y_test, y_pred))\n",
    "\n",
    "np.argmax(scores)"
   ]
  },
  {
   "cell_type": "code",
   "execution_count": 68,
   "id": "b83446b0",
   "metadata": {},
   "outputs": [
    {
     "data": {
      "text/plain": [
       "0.8556817453865823"
      ]
     },
     "execution_count": 68,
     "metadata": {},
     "output_type": "execute_result"
    }
   ],
   "source": [
    "scores[np.argmax(scores)]\n",
    "\n",
    "X_train, X_test, y_train, y_test = train_test_split(X, y,test_size = 0.2, random_state = np.argmax(scores))\n",
    "lr = LinearRegression()\n",
    "pipe = make_pipeline(column_trans, lr)\n",
    "pipe.fit(X_train, y_train)\n",
    "y_pred = pipe.predict(X_test)\n",
    "r2_score(y_test, y_pred)"
   ]
  },
  {
   "cell_type": "code",
   "execution_count": 69,
   "id": "c436a597",
   "metadata": {},
   "outputs": [],
   "source": [
    "import pickle\n",
    "pickle.dump(pipe, open('priceprediction.pkl', 'wb'))"
   ]
  },
  {
   "cell_type": "code",
   "execution_count": 74,
   "id": "743092d8",
   "metadata": {},
   "outputs": [
    {
     "data": {
      "text/plain": [
       "array([44434.94648611])"
      ]
     },
     "execution_count": 74,
     "metadata": {},
     "output_type": "execute_result"
    }
   ],
   "source": [
    "pipe.predict(pd.DataFrame([['Yamaha FZ S', 2013, 75000]], columns = ['name', 'year', 'km_driven' ]))"
   ]
  },
  {
   "cell_type": "code",
   "execution_count": 44,
   "id": "cff0f7df",
   "metadata": {},
   "outputs": [],
   "source": [
    "ct = ColumnTransformer(transformers=[('encoder',OneHotEncoder(),['name'])],remainder='passthrough')"
   ]
  },
  {
   "cell_type": "code",
   "execution_count": 45,
   "id": "0df66a6e",
   "metadata": {},
   "outputs": [],
   "source": [
    "X = ct.fit_transform(X)"
   ]
  },
  {
   "cell_type": "code",
   "execution_count": 47,
   "id": "e4e8c3ff",
   "metadata": {},
   "outputs": [
    {
     "data": {
      "text/plain": [
       "<1061x218 sparse matrix of type '<class 'numpy.float64'>'\n",
       "\twith 3183 stored elements in Compressed Sparse Row format>"
      ]
     },
     "execution_count": 47,
     "metadata": {},
     "output_type": "execute_result"
    }
   ],
   "source": [
    "X"
   ]
  },
  {
   "cell_type": "code",
   "execution_count": 25,
   "id": "f6ed1089",
   "metadata": {},
   "outputs": [],
   "source": [
    "X = np.array(column_trans.fit_transform(X))"
   ]
  },
  {
   "cell_type": "code",
   "execution_count": 27,
   "id": "bc878efb",
   "metadata": {},
   "outputs": [
    {
     "data": {
      "text/plain": [
       "array(<1061x218 sparse matrix of type '<class 'numpy.float64'>'\n",
       "\twith 3183 stored elements in Compressed Sparse Row format>, dtype=object)"
      ]
     },
     "execution_count": 27,
     "metadata": {},
     "output_type": "execute_result"
    }
   ],
   "source": [
    "X"
   ]
  },
  {
   "cell_type": "code",
   "execution_count": 50,
   "id": "494a5481",
   "metadata": {},
   "outputs": [],
   "source": [
    "y_pred  =  lr.predict(X_test)"
   ]
  },
  {
   "cell_type": "code",
   "execution_count": 52,
   "id": "633b0702",
   "metadata": {},
   "outputs": [
    {
     "data": {
      "text/plain": [
       "array([ 39739.90023153, 113586.60433803,  46542.12712454,  46835.52786137,\n",
       "        74467.14228881,  48775.0201016 ,  47996.78922569,  38453.73066922,\n",
       "        38167.83406118,  39739.90023153,  81982.98938213,  42249.10237326,\n",
       "        31473.97301938,  28527.72757662,  13004.94759358,  52046.53944328,\n",
       "        59847.69009492,  61613.08211026,  27491.62547141,  34462.41180471,\n",
       "        34545.141074  , 152377.01371073,  68153.62436631,  74384.3595152 ,\n",
       "        45408.60933401,  42626.39774486,  22540.26074275,  16862.76784235,\n",
       "        89380.76264248,  89216.8197383 ,  25088.97065493,  83539.20653869,\n",
       "        31875.27619899,  55259.49232405,  74759.90947002, 134559.67425638,\n",
       "       140318.62374529,  25124.55394303,  54254.32333434,  32194.19314441,\n",
       "        75804.73077208,  63354.80239602,  50196.45760868,  89206.60261197,\n",
       "        19759.43279784,  36375.63365606,  39961.77938597,  20477.70712661,\n",
       "        16960.79799423,  77282.30874493, 129400.14993149,  35885.46377015,\n",
       "       132040.49526483,  80072.98967655,  92408.51135015,  51365.32515368,\n",
       "        83767.84747689,  17063.45181959, 139880.43673961,  24945.65300993,\n",
       "        47875.19073229,  33662.31969772,  22786.98781996,  42709.98475358,\n",
       "        35344.92352612,  48694.7898518 ,  31448.43020354,  43340.55088608,\n",
       "        51441.09702346,  20443.24015012,  39679.78582937,  38065.66279784,\n",
       "        45783.32371663,  39804.13997127,  89270.45965156,  77961.56763981,\n",
       "        27499.18912556,  36564.66263891, 128829.52716781,  39374.4353101 ,\n",
       "        76120.04673098,   7766.05963303,  39120.75877385, 154246.48339592,\n",
       "        23668.5122181 ,  27449.76561763,  71692.51826717,  15252.65135   ,\n",
       "       140084.77926631,  35482.03129908,  36166.27423917,  39280.12954647,\n",
       "        44453.55424823,  23734.24102329,  70851.15911299, 163700.27039854,\n",
       "        55517.55654641,  60910.65467476,  63675.74666914,  38756.65020484,\n",
       "        43825.4405147 ,  35563.62429061,  57036.3680361 ,  37937.44866598,\n",
       "        32503.12007451,  76253.12480149,  42538.05247313, 126717.30123317,\n",
       "        56665.40016822,  42258.85204228,  41384.15695969,  59641.29914751,\n",
       "        57380.75471181, 109753.97601991,  52839.45815102, 159519.51385608,\n",
       "        33647.41729104,  40820.63184771,  79672.03203068, 140235.48187974,\n",
       "        46576.93773433,  29542.93288457,  48016.72058181,  50183.19228875,\n",
       "        40003.70643349,  38800.22611107,  46521.88505336,  55479.16132794,\n",
       "        20353.22938908, 146811.09617249,  35763.00227328,  39398.81485517,\n",
       "        53334.57626814,  83616.33160505,  33837.11286939,  31452.57131501,\n",
       "       120907.0488902 ,  23153.53329539,  38042.55105606,  68204.70999798,\n",
       "        99601.24182314,  32544.2592204 ,  48440.6832393 ,  65745.34445528,\n",
       "        27828.4095681 ,  33173.43988558,  69687.81484635, 120944.78359405,\n",
       "        39433.38644149,  89196.45604766,  39206.49556868,  27067.44351825,\n",
       "        36411.40574389, 117623.68686172, 149864.67657246, 136694.0336973 ,\n",
       "        40968.21452784,  43409.39929499,  42287.02608275,  20260.42808839,\n",
       "        29964.98774801,  70934.86546976, 117252.63279817,  33442.5935163 ,\n",
       "        35135.2110717 ,  50698.88578973,  15987.5294293 , 186924.2407133 ,\n",
       "        48187.41227282,  49760.06839939,  62828.62038978,  29623.20988929,\n",
       "        40123.04246907,  65356.31853782,  20394.8790686 , 117495.97278254,\n",
       "        79221.25675482,  19731.74529626,  65617.63037609,  49349.07332867,\n",
       "        14793.82252688,  52635.94943009, 149900.41097182,  70357.77783822,\n",
       "        43172.84668088,  48972.40905981,  89273.01393314, 118161.75983356,\n",
       "        29049.27780027,  84388.0136377 ,  53851.83334185,  79986.14410271,\n",
       "        50382.5264145 , 109242.77202937,  43950.62821139,  41341.95790152,\n",
       "        48816.08455503,  22387.2488203 , 109561.81741637,  77026.13936961,\n",
       "        88915.48507346, 120370.75347165,  45146.06621606, 147660.65197684,\n",
       "        13513.65035135,  31427.02849917,  58896.36712504,  57706.31193955,\n",
       "        40994.2542818 , 144023.41823501,  42208.88695068, 152645.85184741,\n",
       "        44791.87715327])"
      ]
     },
     "execution_count": 52,
     "metadata": {},
     "output_type": "execute_result"
    }
   ],
   "source": [
    "y_pred"
   ]
  },
  {
   "cell_type": "code",
   "execution_count": 53,
   "id": "e7e1d386",
   "metadata": {},
   "outputs": [
    {
     "name": "stdout",
     "output_type": "stream",
     "text": [
      "Accuracy: 53.86 %\n",
      "Standard Deviation: 15.12 %\n"
     ]
    }
   ],
   "source": [
    "from sklearn.model_selection import cross_val_score\n",
    "accur = cross_val_score(estimator = lr, X = X_train, y = y_train)\n",
    "print(\"Accuracy: {:.2f} %\".format(accur.mean()*100))\n",
    "print(\"Standard Deviation: {:.2f} %\".format(accur.std()*100))"
   ]
  },
  {
   "cell_type": "code",
   "execution_count": null,
   "id": "5686b75c",
   "metadata": {},
   "outputs": [],
   "source": []
  }
 ],
 "metadata": {
  "kernelspec": {
   "display_name": "Python 3 (ipykernel)",
   "language": "python",
   "name": "python3"
  },
  "language_info": {
   "codemirror_mode": {
    "name": "ipython",
    "version": 3
   },
   "file_extension": ".py",
   "mimetype": "text/x-python",
   "name": "python",
   "nbconvert_exporter": "python",
   "pygments_lexer": "ipython3",
   "version": "3.9.12"
  }
 },
 "nbformat": 4,
 "nbformat_minor": 5
}
